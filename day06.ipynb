{
 "cells": [
  {
   "cell_type": "markdown",
   "id": "5df6b7dc",
   "metadata": {},
   "source": [
    "https://adventofcode.com/2021/day/6"
   ]
  },
  {
   "cell_type": "markdown",
   "id": "72a2b4f7",
   "metadata": {},
   "source": [
    "--- Day 6: Lanternfish ---\n",
    "\n",
    "The sea floor is getting steeper. Maybe the sleigh keys got carried this way?\n",
    "\n",
    "A massive school of glowing lanternfish swims past. They must spawn quickly to reach such large numbers - maybe exponentially quickly? You should model their growth rate to be sure.\n",
    "\n",
    "Although you know nothing about this specific species of lanternfish, you make some guesses about their attributes. Surely, each lanternfish creates a new lanternfish once every 7 days.\n",
    "\n",
    "However, this process isn't necessarily synchronized between every lanternfish - one lanternfish might have 2 days left until it creates another lanternfish, while another might have 4. So, you can model each fish as a single number that represents the number of days until it creates a new lanternfish.\n",
    "\n",
    "Furthermore, you reason, a new lanternfish would surely need slightly longer before it's capable of producing more lanternfish: two more days for its first cycle.\n",
    "\n",
    "So, suppose you have a lanternfish with an internal timer value of 3:\n",
    "\n",
    "    After one day, its internal timer would become 2.\n",
    "    After another day, its internal timer would become 1.\n",
    "    After another day, its internal timer would become 0.\n",
    "    After another day, its internal timer would reset to 6, and it would create a new lanternfish with an internal timer of 8.\n",
    "    After another day, the first lanternfish would have an internal timer of 5, and the second lanternfish would have an internal timer of 7.\n",
    "\n",
    "A lanternfish that creates a new fish resets its timer to 6, not 7 (because 0 is included as a valid timer value). The new lanternfish starts with an internal timer of 8 and does not start counting down until the next day.\n",
    "\n",
    "Realizing what you're trying to do, the submarine automatically produces a list of the ages of several hundred nearby lanternfish (your puzzle input). For example, suppose you were given the following list:\n",
    "\n",
    "3,4,3,1,2\n",
    "\n",
    "This list means that the first fish has an internal timer of 3, the second fish has an internal timer of 4, and so on until the fifth fish, which has an internal timer of 2. Simulating these fish over several days would proceed as follows:\n",
    "\n",
    "Initial state: 3,4,3,1,2\n",
    "After  1 day:  2,3,2,0,1\n",
    "After  2 days: 1,2,1,6,0,8\n",
    "After  3 days: 0,1,0,5,6,7,8\n",
    "After  4 days: 6,0,6,4,5,6,7,8,8\n",
    "After  5 days: 5,6,5,3,4,5,6,7,7,8\n",
    "After  6 days: 4,5,4,2,3,4,5,6,6,7\n",
    "After  7 days: 3,4,3,1,2,3,4,5,5,6\n",
    "After  8 days: 2,3,2,0,1,2,3,4,4,5\n",
    "After  9 days: 1,2,1,6,0,1,2,3,3,4,8\n",
    "After 10 days: 0,1,0,5,6,0,1,2,2,3,7,8\n",
    "After 11 days: 6,0,6,4,5,6,0,1,1,2,6,7,8,8,8\n",
    "After 12 days: 5,6,5,3,4,5,6,0,0,1,5,6,7,7,7,8,8\n",
    "After 13 days: 4,5,4,2,3,4,5,6,6,0,4,5,6,6,6,7,7,8,8\n",
    "After 14 days: 3,4,3,1,2,3,4,5,5,6,3,4,5,5,5,6,6,7,7,8\n",
    "After 15 days: 2,3,2,0,1,2,3,4,4,5,2,3,4,4,4,5,5,6,6,7\n",
    "After 16 days: 1,2,1,6,0,1,2,3,3,4,1,2,3,3,3,4,4,5,5,6,8\n",
    "After 17 days: 0,1,0,5,6,0,1,2,2,3,0,1,2,2,2,3,3,4,4,5,7,8\n",
    "After 18 days: 6,0,6,4,5,6,0,1,1,2,6,0,1,1,1,2,2,3,3,4,6,7,8,8,8,8\n",
    "\n",
    "Each day, a 0 becomes a 6 and adds a new 8 to the end of the list, while each other number decreases by 1 if it was present at the start of the day.\n",
    "\n",
    "In this example, after 18 days, there are a total of 26 fish. After 80 days, there would be a total of 5934.\n",
    "\n",
    "Find a way to simulate lanternfish. How many lanternfish would there be after 80 days?\n"
   ]
  },
  {
   "cell_type": "code",
   "execution_count": 7,
   "id": "d60acb63",
   "metadata": {},
   "outputs": [],
   "source": [
    "def input_wrangler(filepath):\n",
    "    \n",
    "    with open(filepath, 'r') as f:\n",
    "        lines = f.readlines()\n",
    "    numbers = [int(i) for i in lines[0].split(',')]\n",
    "    return numbers"
   ]
  },
  {
   "cell_type": "code",
   "execution_count": 30,
   "id": "4075419f",
   "metadata": {},
   "outputs": [],
   "source": [
    "def day06a(filepath='input06.txt', days=80):\n",
    "    \n",
    "    numbers = input_wrangler(filepath)\n",
    "    # make a list of length 9 and put the number of fish on this day on the corresponding index\n",
    "    fish = [0 for i in range(9)]\n",
    "    for number in numbers:\n",
    "        fish[number] += 1\n",
    "    \n",
    "    for day in range(days):\n",
    "        new_fish = [0 for i in range(9)]\n",
    "        for i, val in enumerate(fish):\n",
    "            if i == 0:\n",
    "                new_fish[6] += val\n",
    "                new_fish[8] += val\n",
    "            else:\n",
    "                new_fish[i-1] += val\n",
    "        fish = new_fish\n",
    "    \n",
    "    print(f'There are {sum(fish)} fish after {days} days.')\n",
    "    #print(fish)\n",
    "    \n"
   ]
  },
  {
   "cell_type": "code",
   "execution_count": 31,
   "id": "6869bd03",
   "metadata": {},
   "outputs": [
    {
     "name": "stdout",
     "output_type": "stream",
     "text": [
      "There are 26 fish after 18 days.\n",
      "There are 5934 fish after 80 days.\n",
      "There are 372300 fish after 80 days.\n",
      "1.39 ms ± 0 ns per loop (mean ± std. dev. of 1 run, 1 loop each)\n"
     ]
    }
   ],
   "source": [
    "%%timeit -r 1 -n 1\n",
    "\n",
    "day06a(filepath='test06.txt', days=18)\n",
    "day06a(filepath='test06.txt', days=80)\n",
    "day06a()"
   ]
  },
  {
   "cell_type": "markdown",
   "id": "3449164c",
   "metadata": {},
   "source": [
    "--- Part Two ---\n",
    "\n",
    "Suppose the lanternfish live forever and have unlimited food and space. Would they take over the entire ocean?\n",
    "\n",
    "After 256 days in the example above, there would be a total of 26984457539 lanternfish!\n",
    "\n",
    "How many lanternfish would there be after 256 days?\n"
   ]
  },
  {
   "cell_type": "code",
   "execution_count": 32,
   "id": "72e3e8cd",
   "metadata": {},
   "outputs": [
    {
     "name": "stdout",
     "output_type": "stream",
     "text": [
      "There are 26984457539 fish after 256 days.\n",
      "There are 1675781200288 fish after 256 days.\n"
     ]
    }
   ],
   "source": [
    "day06a(filepath='test06.txt', days=256)\n",
    "day06a(days=256)"
   ]
  },
  {
   "cell_type": "code",
   "execution_count": null,
   "id": "46b51e2a",
   "metadata": {},
   "outputs": [],
   "source": []
  }
 ],
 "metadata": {
  "kernelspec": {
   "display_name": "Python 3 (ipykernel)",
   "language": "python",
   "name": "python3"
  },
  "language_info": {
   "codemirror_mode": {
    "name": "ipython",
    "version": 3
   },
   "file_extension": ".py",
   "mimetype": "text/x-python",
   "name": "python",
   "nbconvert_exporter": "python",
   "pygments_lexer": "ipython3",
   "version": "3.8.8"
  }
 },
 "nbformat": 4,
 "nbformat_minor": 5
}
