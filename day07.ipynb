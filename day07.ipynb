{
 "cells": [
  {
   "cell_type": "markdown",
   "id": "a38f5b60",
   "metadata": {},
   "source": [
    "https://adventofcode.com/2021/day/7"
   ]
  },
  {
   "cell_type": "markdown",
   "id": "b75ba974",
   "metadata": {},
   "source": [
    "--- Day 7: The Treachery of Whales ---\n",
    "\n",
    "A giant whale has decided your submarine is its next meal, and it's much faster than you are. There's nowhere to run!\n",
    "\n",
    "Suddenly, a swarm of crabs (each in its own tiny submarine - it's too deep for them otherwise) zooms in to rescue you! They seem to be preparing to blast a hole in the ocean floor; sensors indicate a massive underground cave system just beyond where they're aiming!\n",
    "\n",
    "The crab submarines all need to be aligned before they'll have enough power to blast a large enough hole for your submarine to get through. However, it doesn't look like they'll be aligned before the whale catches you! Maybe you can help?\n",
    "\n",
    "There's one major catch - crab submarines can only move horizontally.\n",
    "\n",
    "You quickly make a list of the horizontal position of each crab (your puzzle input). Crab submarines have limited fuel, so you need to find a way to make all of their horizontal positions match while requiring them to spend as little fuel as possible.\n",
    "\n",
    "For example, consider the following horizontal positions:\n",
    "\n",
    "16,1,2,0,4,2,7,1,2,14\n",
    "\n",
    "This means there's a crab with horizontal position 16, a crab with horizontal position 1, and so on.\n",
    "\n",
    "Each change of 1 step in horizontal position of a single crab costs 1 fuel. You could choose any horizontal position to align them all on, but the one that costs the least fuel is horizontal position 2:\n",
    "\n",
    "    Move from 16 to 2: 14 fuel\n",
    "    Move from 1 to 2: 1 fuel\n",
    "    Move from 2 to 2: 0 fuel\n",
    "    Move from 0 to 2: 2 fuel\n",
    "    Move from 4 to 2: 2 fuel\n",
    "    Move from 2 to 2: 0 fuel\n",
    "    Move from 7 to 2: 5 fuel\n",
    "    Move from 1 to 2: 1 fuel\n",
    "    Move from 2 to 2: 0 fuel\n",
    "    Move from 14 to 2: 12 fuel\n",
    "\n",
    "This costs a total of 37 fuel. This is the cheapest possible outcome; more expensive outcomes include aligning at position 1 (41 fuel), position 3 (39 fuel), or position 10 (71 fuel).\n",
    "\n",
    "Determine the horizontal position that the crabs can align to using the least fuel possible. How much fuel must they spend to align to that position?\n"
   ]
  },
  {
   "cell_type": "code",
   "execution_count": 14,
   "id": "ae60d850",
   "metadata": {},
   "outputs": [],
   "source": [
    "def input_wrangler(filepath):\n",
    "    \n",
    "    with open(filepath, 'r') as f:\n",
    "        lines = f.readlines()\n",
    "        \n",
    "    # we split our input string into individual integers\n",
    "    positions = [int(i) for i in lines[0].split(',')]\n",
    "    return positions"
   ]
  },
  {
   "cell_type": "code",
   "execution_count": 15,
   "id": "c4af2221",
   "metadata": {},
   "outputs": [],
   "source": [
    "def day07a(filepath='input07.txt'):\n",
    "    \n",
    "    # read the data\n",
    "    positions = input_wrangler(filepath)\n",
    "    \n",
    "    # determine the horizontal positions to investigate\n",
    "    x_min, x_max = min(positions), max(positions)\n",
    "    \n",
    "    # create the cost list for aligning the crabs at said position\n",
    "    costs = [0 for i in range(x_min, x_max+1)]\n",
    "    \n",
    "    for x in range(x_min, x_max+1):\n",
    "        for position in positions:\n",
    "            costs[x] += abs(x-position)\n",
    "    \n",
    "    # find the lowest cost and the corresponding index\n",
    "    lowest_cost = min(costs)\n",
    "    for i, cost in enumerate(costs):\n",
    "        if cost == lowest_cost:\n",
    "            lowest_cost_index = i + x_min\n",
    "            break\n",
    "            \n",
    "    print(f'The horizontal position with the lowest fuel cost is {lowest_cost_index} with a cost of {lowest_cost}')\n",
    "    \n"
   ]
  },
  {
   "cell_type": "code",
   "execution_count": 16,
   "id": "d1063494",
   "metadata": {},
   "outputs": [
    {
     "name": "stdout",
     "output_type": "stream",
     "text": [
      "The horizontal position with the lowest fuel cost is 2 with a cost of 37\n",
      "The horizontal position with the lowest fuel cost is 349 with a cost of 356992\n",
      "221 ms ± 0 ns per loop (mean ± std. dev. of 1 run, 1 loop each)\n"
     ]
    }
   ],
   "source": [
    "%%timeit -r 1 -n 1 \n",
    "\n",
    "day07a(filepath='test07.txt')\n",
    "day07a()"
   ]
  },
  {
   "cell_type": "markdown",
   "id": "58b60256",
   "metadata": {},
   "source": [
    "--- Part Two ---\n",
    "\n",
    "The crabs don't seem interested in your proposed solution. Perhaps you misunderstand crab engineering?\n",
    "\n",
    "As it turns out, crab submarine engines don't burn fuel at a constant rate. Instead, each change of 1 step in horizontal position costs 1 more unit of fuel than the last: the first step costs 1, the second step costs 2, the third step costs 3, and so on.\n",
    "\n",
    "As each crab moves, moving further becomes more expensive. This changes the best horizontal position to align them all on; in the example above, this becomes 5:\n",
    "\n",
    "    Move from 16 to 5: 66 fuel\n",
    "    Move from 1 to 5: 10 fuel\n",
    "    Move from 2 to 5: 6 fuel\n",
    "    Move from 0 to 5: 15 fuel\n",
    "    Move from 4 to 5: 1 fuel\n",
    "    Move from 2 to 5: 6 fuel\n",
    "    Move from 7 to 5: 3 fuel\n",
    "    Move from 1 to 5: 10 fuel\n",
    "    Move from 2 to 5: 6 fuel\n",
    "    Move from 14 to 5: 45 fuel\n",
    "\n",
    "This costs a total of 168 fuel. This is the new cheapest possible outcome; the old alignment position (2) now costs 206 fuel instead.\n",
    "\n",
    "Determine the horizontal position that the crabs can align to using the least fuel possible so they can make you an escape route! How much fuel must they spend to align to that position?\n"
   ]
  },
  {
   "cell_type": "code",
   "execution_count": 19,
   "id": "cb5ed765",
   "metadata": {},
   "outputs": [],
   "source": [
    "def day07b(filepath='input07.txt'):\n",
    "    \n",
    "    # read the data\n",
    "    positions = input_wrangler(filepath)\n",
    "    \n",
    "    # determine the horizontal positions to investigate\n",
    "    x_min, x_max = min(positions), max(positions)\n",
    "    \n",
    "    # create the cost list for aligning the crabs at said position\n",
    "    costs = [0 for i in range(x_min, x_max+1)]\n",
    "    \n",
    "    for x in range(x_min, x_max+1):\n",
    "        for position in positions:\n",
    "            dx = abs(x-position)\n",
    "            costs[x] += dx*(dx+1)/2\n",
    "    \n",
    "    # find the lowest cost and the corresponding index\n",
    "    lowest_cost = min(costs)\n",
    "    for i, cost in enumerate(costs):\n",
    "        if cost == lowest_cost:\n",
    "            lowest_cost_index = i + x_min\n",
    "            break\n",
    "            \n",
    "    print(f'The horizontal position with the lowest fuel cost is {lowest_cost_index} with a cost of {int(lowest_cost)}')\n",
    "    \n"
   ]
  },
  {
   "cell_type": "code",
   "execution_count": 20,
   "id": "8d09ef76",
   "metadata": {},
   "outputs": [
    {
     "name": "stdout",
     "output_type": "stream",
     "text": [
      "The horizontal position with the lowest fuel cost is 5 with a cost of 168\n",
      "The horizontal position with the lowest fuel cost is 489 with a cost of 101268110\n",
      "338 ms ± 0 ns per loop (mean ± std. dev. of 1 run, 1 loop each)\n"
     ]
    }
   ],
   "source": [
    "%%timeit -r 1 -n 1 \n",
    "\n",
    "day07b(filepath='test07.txt')\n",
    "day07b()"
   ]
  },
  {
   "cell_type": "code",
   "execution_count": null,
   "id": "09d21598",
   "metadata": {},
   "outputs": [],
   "source": []
  }
 ],
 "metadata": {
  "kernelspec": {
   "display_name": "Python 3 (ipykernel)",
   "language": "python",
   "name": "python3"
  },
  "language_info": {
   "codemirror_mode": {
    "name": "ipython",
    "version": 3
   },
   "file_extension": ".py",
   "mimetype": "text/x-python",
   "name": "python",
   "nbconvert_exporter": "python",
   "pygments_lexer": "ipython3",
   "version": "3.8.8"
  }
 },
 "nbformat": 4,
 "nbformat_minor": 5
}
