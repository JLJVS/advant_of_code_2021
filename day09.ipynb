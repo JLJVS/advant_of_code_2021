{
 "cells": [
  {
   "cell_type": "markdown",
   "id": "c301def7",
   "metadata": {},
   "source": [
    "https://adventofcode.com/2021/day/9"
   ]
  },
  {
   "cell_type": "markdown",
   "id": "28fd6efd",
   "metadata": {},
   "source": [
    "--- Day 9: Smoke Basin ---\n",
    "\n",
    "These caves seem to be lava tubes. Parts are even still volcanically active; small hydrothermal vents release smoke into the caves that slowly settles like rain.\n",
    "\n",
    "If you can model how the smoke flows through the caves, you might be able to avoid it and be that much safer. The submarine generates a heightmap of the floor of the nearby caves for you (your puzzle input).\n",
    "\n",
    "Smoke flows to the lowest point of the area it's in. For example, consider the following heightmap:\n",
    "\n",
    "2199943210\n",
    "3987894921\n",
    "9856789892\n",
    "8767896789\n",
    "9899965678\n",
    "\n",
    "Each number corresponds to the height of a particular location, where 9 is the highest and 0 is the lowest a location can be.\n",
    "\n",
    "Your first goal is to find the low points - the locations that are lower than any of its adjacent locations. Most locations have four adjacent locations (up, down, left, and right); locations on the edge or corner of the map have three or two adjacent locations, respectively. (Diagonal locations do not count as adjacent.)\n",
    "\n",
    "In the above example, there are four low points, all highlighted: two are in the first row (a 1 and a 0), one is in the third row (a 5), and one is in the bottom row (also a 5). All other locations on the heightmap have some lower adjacent location, and so are not low points.\n",
    "\n",
    "The risk level of a low point is 1 plus its height. In the above example, the risk levels of the low points are 2, 1, 6, and 6. The sum of the risk levels of all low points in the heightmap is therefore 15.\n",
    "\n",
    "Find all of the low points on your heightmap. What is the sum of the risk levels of all low points on your heightmap?\n"
   ]
  },
  {
   "cell_type": "code",
   "execution_count": 1,
   "id": "ac29e68c",
   "metadata": {},
   "outputs": [],
   "source": [
    "def input_wrangler(filepath):\n",
    "    \n",
    "    with open(filepath, 'r') as f:\n",
    "        lines = f.readlines()\n",
    "    lines = [i.rstrip() for i in lines]\n",
    "    heatmap = dict()\n",
    "    for i, line in enumerate(lines):\n",
    "        for j, char in enumerate(line):\n",
    "            heatmap[i,j] = int(char)\n",
    "    return heatmap"
   ]
  },
  {
   "cell_type": "code",
   "execution_count": 2,
   "id": "196a43a5",
   "metadata": {},
   "outputs": [],
   "source": [
    "def day09a(filepath='input09.txt'):\n",
    "    \n",
    "    # read the data\n",
    "    heatmap = input_wrangler(filepath)\n",
    "    \n",
    "    # create a list containing the relative positions of the adjacent points\n",
    "    neighbors = [(-1, 0), (0, -1), (0, 1), (1, 0)]\n",
    "    # make a set of all positions in our map\n",
    "    allowed = set(heatmap.keys())\n",
    "    # create a dict with the lowest points and the corresponding heights and total to keep track\n",
    "    lowest_positions = dict()\n",
    "    risk_levels = 0\n",
    "    for position in heatmap.keys():\n",
    "        lowest = True\n",
    "        for neighbor in neighbors:\n",
    "            new_position = (position[0]+neighbor[0], position[1]+neighbor[1])\n",
    "            if new_position in allowed:\n",
    "                if heatmap[position] >= heatmap[new_position]:\n",
    "                    lowest = False\n",
    "        if lowest:\n",
    "            lowest_positions[position] = heatmap[position]\n",
    "            risk_levels += heatmap[position]+1\n",
    "            \n",
    "    print(f\"The sum of the risk levels of all low points is {risk_levels}.\")\n",
    "\n",
    "    "
   ]
  },
  {
   "cell_type": "code",
   "execution_count": 3,
   "id": "d3b44731",
   "metadata": {},
   "outputs": [
    {
     "name": "stdout",
     "output_type": "stream",
     "text": [
      "The sum of the risk levels of all low points is 15.\n",
      "The sum of the risk levels of all low points is 462.\n",
      "24.4 ms ± 0 ns per loop (mean ± std. dev. of 1 run, 1 loop each)\n"
     ]
    }
   ],
   "source": [
    "%%timeit -r 1 -n 1\n",
    "\n",
    "day09a(filepath='test09.txt')\n",
    "day09a()"
   ]
  },
  {
   "cell_type": "markdown",
   "id": "385053ff",
   "metadata": {},
   "source": [
    "--- Part Two ---\n",
    "\n",
    "Next, you need to find the largest basins so you know what areas are most important to avoid.\n",
    "\n",
    "A basin is all locations that eventually flow downward to a single low point. Therefore, every low point has a basin, although some basins are very small. Locations of height 9 do not count as being in any basin, and all other locations will always be part of exactly one basin.\n",
    "\n",
    "The size of a basin is the number of locations within the basin, including the low point. The example above has four basins.\n",
    "\n",
    "The top-left basin, size 3:\n",
    "\n",
    "2199943210\n",
    "3987894921\n",
    "9856789892\n",
    "8767896789\n",
    "9899965678\n",
    "\n",
    "The top-right basin, size 9:\n",
    "\n",
    "2199943210\n",
    "3987894921\n",
    "9856789892\n",
    "8767896789\n",
    "9899965678\n",
    "\n",
    "The middle basin, size 14:\n",
    "\n",
    "2199943210\n",
    "3987894921\n",
    "9856789892\n",
    "8767896789\n",
    "9899965678\n",
    "\n",
    "The bottom-right basin, size 9:\n",
    "\n",
    "2199943210\n",
    "3987894921\n",
    "9856789892\n",
    "8767896789\n",
    "9899965678\n",
    "\n",
    "Find the three largest basins and multiply their sizes together. In the above example, this is 9 * 14 * 9 = 1134.\n",
    "\n",
    "What do you get if you multiply together the sizes of the three largest basins?"
   ]
  },
  {
   "cell_type": "code",
   "execution_count": 44,
   "id": "ed9e88b5",
   "metadata": {},
   "outputs": [],
   "source": [
    "def day09b(filepath='input09.txt'):\n",
    "    \n",
    "    # read the data\n",
    "    heatmap = input_wrangler(filepath)\n",
    "    \n",
    "    # make a set of all positions in our map\n",
    "    allowed = set(i for i in heatmap.keys() if heatmap[i] != 9)\n",
    "    #print(allowed)\n",
    "    # create a set of already found points\n",
    "    found = set(i for i in heatmap.keys() if heatmap[i] == 9)\n",
    "    \n",
    "    # create a list of basins\n",
    "    basins = []\n",
    "    \n",
    "    # create a list of adjacent positions\n",
    "    neighbors = [(-1, 0), (1, 0), (0, -1), (0, 1)]\n",
    "    \n",
    "    # create a dict with the lowest points and the corresponding heights and total to keep track\n",
    "    lowest_positions = dict()\n",
    "    risk_levels = 0\n",
    "    for position in heatmap.keys():\n",
    "        lowest = True\n",
    "        for neighbor in neighbors:\n",
    "            new_position = (position[0]+neighbor[0], position[1]+neighbor[1])\n",
    "            if new_position in allowed:\n",
    "                if heatmap[position] >= heatmap[new_position]:\n",
    "                    lowest = False\n",
    "        if lowest:\n",
    "            lowest_positions[position] = heatmap[position]\n",
    "    \n",
    "    \n",
    "    \n",
    "    for position in lowest_positions.keys():\n",
    "        \n",
    "        basin =[position]\n",
    "        found.add(position)\n",
    "        to_check = [position]\n",
    "        while len(to_check) > 0:\n",
    "            new_to_check = []\n",
    "            for checking in to_check:\n",
    "                found.add(checking)\n",
    "                \n",
    "                if checking not in basin:\n",
    "                    basin.append(checking)\n",
    "                \n",
    "                for neighbor in neighbors:\n",
    "                    adjacent = (checking[0]+neighbor[0], checking[1]+neighbor[1])\n",
    "                    if (adjacent in allowed) and (adjacent not in found):\n",
    "                        new_to_check.append(adjacent)\n",
    "                    \n",
    "            \n",
    "            to_check = [i for i in new_to_check]\n",
    "                \n",
    "        \n",
    "        basins.append(basin)\n",
    "    #print(basins)\n",
    "    ans = [len(i) for i in basins]\n",
    "    ans.sort(reverse=True)\n",
    "    #print(ans)\n",
    "    print(f\"The product of the three largest basins is: {ans[0]*ans[1]*ans[2]}.\")\n",
    "    "
   ]
  },
  {
   "cell_type": "code",
   "execution_count": 45,
   "id": "25933c54",
   "metadata": {},
   "outputs": [
    {
     "name": "stdout",
     "output_type": "stream",
     "text": [
      "The product of the three largest basins is: 1134.\n",
      "The product of the three largest basins is: 1397760.\n",
      "84.4 ms ± 0 ns per loop (mean ± std. dev. of 1 run, 1 loop each)\n"
     ]
    }
   ],
   "source": [
    "%%timeit -r 1 -n 1\n",
    "\n",
    "day09b(filepath='test09.txt')\n",
    "day09b()"
   ]
  },
  {
   "cell_type": "markdown",
   "id": "b15764bd",
   "metadata": {},
   "source": [
    "### if []:\n",
    "    print('a')"
   ]
  },
  {
   "cell_type": "code",
   "execution_count": 68,
   "id": "ff21e90f",
   "metadata": {},
   "outputs": [
    {
     "name": "stdout",
     "output_type": "stream",
     "text": [
      "3\n",
      "2\n",
      "1\n",
      "0\n"
     ]
    }
   ],
   "source": [
    "A = [i for i in range(4)]\n",
    "while A:\n",
    "    print(A.pop())"
   ]
  },
  {
   "cell_type": "code",
   "execution_count": null,
   "id": "19aacfdc",
   "metadata": {},
   "outputs": [],
   "source": []
  }
 ],
 "metadata": {
  "kernelspec": {
   "display_name": "Python 3 (ipykernel)",
   "language": "python",
   "name": "python3"
  },
  "language_info": {
   "codemirror_mode": {
    "name": "ipython",
    "version": 3
   },
   "file_extension": ".py",
   "mimetype": "text/x-python",
   "name": "python",
   "nbconvert_exporter": "python",
   "pygments_lexer": "ipython3",
   "version": "3.8.8"
  }
 },
 "nbformat": 4,
 "nbformat_minor": 5
}
