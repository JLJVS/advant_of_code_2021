{
 "cells": [
  {
   "cell_type": "markdown",
   "id": "e80fec6d",
   "metadata": {},
   "source": [
    "https://adventofcode.com/2021/day/5"
   ]
  },
  {
   "cell_type": "markdown",
   "id": "b6b31e93",
   "metadata": {},
   "source": [
    "--- Day 5: Hydrothermal Venture ---\n",
    "\n",
    "You come across a field of hydrothermal vents on the ocean floor! These vents constantly produce large, opaque clouds, so it would be best to avoid them if possible.\n",
    "\n",
    "They tend to form in lines; the submarine helpfully produces a list of nearby lines of vents (your puzzle input) for you to review. For example:\n",
    "\n",
    "0,9 -> 5,9\n",
    "8,0 -> 0,8\n",
    "9,4 -> 3,4\n",
    "2,2 -> 2,1\n",
    "7,0 -> 7,4\n",
    "6,4 -> 2,0\n",
    "0,9 -> 2,9\n",
    "3,4 -> 1,4\n",
    "0,0 -> 8,8\n",
    "5,5 -> 8,2\n",
    "\n",
    "Each line of vents is given as a line segment in the format x1,y1 -> x2,y2 where x1,y1 are the coordinates of one end the line segment and x2,y2 are the coordinates of the other end. These line segments include the points at both ends. In other words:\n",
    "\n",
    "    An entry like 1,1 -> 1,3 covers points 1,1, 1,2, and 1,3.\n",
    "    An entry like 9,7 -> 7,7 covers points 9,7, 8,7, and 7,7.\n",
    "\n",
    "For now, only consider horizontal and vertical lines: lines where either x1 = x2 or y1 = y2.\n",
    "\n",
    "So, the horizontal and vertical lines from the above list would produce the following diagram:\n",
    "\n",
    ".......1..\n",
    "..1....1..\n",
    "..1....1..\n",
    ".......1..\n",
    ".112111211\n",
    "..........\n",
    "..........\n",
    "..........\n",
    "..........\n",
    "222111....\n",
    "\n",
    "In this diagram, the top left corner is 0,0 and the bottom right corner is 9,9. Each position is shown as the number of lines which cover that point or . if no line covers that point. The top-left pair of 1s, for example, comes from 2,2 -> 2,1; the very bottom row is formed by the overlapping lines 0,9 -> 5,9 and 0,9 -> 2,9.\n",
    "\n",
    "To avoid the most dangerous areas, you need to determine the number of points where at least two lines overlap. In the above example, this is anywhere in the diagram with a 2 or larger - a total of 5 points.\n",
    "\n",
    "Consider only horizontal and vertical lines. At how many points do at least two lines overlap?\n"
   ]
  },
  {
   "cell_type": "code",
   "execution_count": 8,
   "id": "b06747f6",
   "metadata": {},
   "outputs": [],
   "source": [
    "def input_wrangler(filepath):\n",
    "    \n",
    "    with open(filepath, 'r') as f:\n",
    "        lines = f.readlines()\n",
    "    lines = [i.rstrip().split(' -> ') for i in lines]\n",
    "    return lines"
   ]
  },
  {
   "cell_type": "code",
   "execution_count": 27,
   "id": "f59b8e11",
   "metadata": {},
   "outputs": [],
   "source": [
    "def day05a(filepath='input05.txt'):\n",
    "    \n",
    "    coordinates = input_wrangler(filepath)\n",
    "    vents = dict()\n",
    "    for coords in coordinates:\n",
    "        start, finish = coords\n",
    "        x_start, y_start = [int(i) for i in start.split(',')]\n",
    "        x_finish, y_finish = [ int(i) for i in finish.split(',')]\n",
    "        if (x_start == x_finish) or (y_start == y_finish): \n",
    "            for x in range(min(x_start, x_finish), max(x_start, x_finish)+1):\n",
    "                for y in range(min(y_start, y_finish), max(y_start, y_finish)+1):\n",
    "                    if (x,y) not in vents.keys():\n",
    "                        vents[(x,y)] = 1\n",
    "                    else:\n",
    "                        vents[(x,y)] += 1\n",
    "    double_count = 0\n",
    "    for vent in vents:\n",
    "        if vents[vent] >1:\n",
    "            double_count += 1\n",
    "    print(f'There are {double_count} overlap points in our vents.')\n",
    "   "
   ]
  },
  {
   "cell_type": "code",
   "execution_count": 28,
   "id": "cc93f82f",
   "metadata": {},
   "outputs": [
    {
     "name": "stdout",
     "output_type": "stream",
     "text": [
      "There are 5 overlap points in our vents.\n",
      "There are 7269 overlap points in our vents.\n",
      "56.3 ms ± 0 ns per loop (mean ± std. dev. of 1 run, 1 loop each)\n"
     ]
    }
   ],
   "source": [
    "%%timeit -r 1 -n 1\n",
    "\n",
    "day05a('test05.txt')\n",
    "day05a()"
   ]
  },
  {
   "cell_type": "markdown",
   "id": "ffa1cf10",
   "metadata": {},
   "source": [
    "--- Part Two ---\n",
    "\n",
    "Unfortunately, considering only horizontal and vertical lines doesn't give you the full picture; you need to also consider diagonal lines.\n",
    "\n",
    "Because of the limits of the hydrothermal vent mapping system, the lines in your list will only ever be horizontal, vertical, or a diagonal line at exactly 45 degrees. In other words:\n",
    "\n",
    "    An entry like 1,1 -> 3,3 covers points 1,1, 2,2, and 3,3.\n",
    "    An entry l ike 9,7 -> 7,9 covers points 9,7, 8,8, and 7,9.\n",
    "\n",
    "Considering all lines from the above example would now produce the following diagram:\n",
    "\n",
    "1.1....11.\n",
    ".111...2..\n",
    "..2.1.111.\n",
    "...1.2.2..\n",
    ".112313211\n",
    "...1.2....\n",
    "..1...1...\n",
    ".1.....1..\n",
    "1.......1.\n",
    "222111....\n",
    "\n",
    "You still need to determine the number of points where at least two lines overlap. In the above example, this is still anywhere in the diagram with a 2 or larger - now a total of 12 points.\n",
    "\n",
    "Consider all of the lines. At how many points do at least two lines overlap?\n"
   ]
  },
  {
   "cell_type": "code",
   "execution_count": 78,
   "id": "895e4dc0",
   "metadata": {},
   "outputs": [],
   "source": [
    "def day05b(filepath='input05.txt'):\n",
    "    \n",
    "    coordinates = input_wrangler(filepath)\n",
    "    vents = dict()\n",
    "    for coords in coordinates:\n",
    "        # convert our coords to x,y for our start and finish\n",
    "        start, finish = coords\n",
    "        x_start, y_start = [int(i) for i in start.split(',')]\n",
    "        x_finish, y_finish = [int(i) for i in finish.split(',')]\n",
    "        \n",
    "        # horizontal and vertical lines\n",
    "        if (x_start == x_finish) or (y_start == y_finish): \n",
    "            for x in range(min(x_start, x_finish), max(x_start, x_finish)+1):\n",
    "                for y in range(min(y_start, y_finish), max(y_start, y_finish)+1):\n",
    "                    if (x,y) not in vents.keys():\n",
    "                        vents[(x,y)] = 1\n",
    "                    else:\n",
    "                        vents[(x,y)] += 1\n",
    "        # diagonal lines\n",
    "        else:\n",
    "            # create our x and y ranges\n",
    "            if x_start < x_finish:\n",
    "                dx = list(range(x_start, x_finish+1))\n",
    "            else:\n",
    "                dx = list(range(x_start, x_finish-1, -1))\n",
    "            \n",
    "            if y_start < y_finish:\n",
    "                dy = list(range(y_start, y_finish+1))\n",
    "            else:\n",
    "                dy = list(range(y_start, y_finish-1, -1))\n",
    "            \n",
    "            new_coords = zip(dx, dy)\n",
    "            #print(x_finish, x_start, dx)\n",
    "            for x,y in new_coords:\n",
    "                if (x,y) not in vents.keys():\n",
    "                    vents[(x,y)] = 1\n",
    "                else:\n",
    "                    vents[(x,y)] += 1\n",
    "            \n",
    "                        \n",
    "    double_count = 0\n",
    "    for vent in vents:\n",
    "        if vents[vent] > 1:\n",
    "            double_count += 1\n",
    "    print(f'There are {double_count} overlap points in our vents.')\n",
    "   "
   ]
  },
  {
   "cell_type": "code",
   "execution_count": 79,
   "id": "9642d87c",
   "metadata": {},
   "outputs": [
    {
     "name": "stdout",
     "output_type": "stream",
     "text": [
      "There are 12 overlap points in our vents.\n",
      "There are 21140 overlap points in our vents.\n",
      "89.7 ms ± 0 ns per loop (mean ± std. dev. of 1 run, 1 loop each)\n"
     ]
    }
   ],
   "source": [
    "%%timeit -r 1 -n 1\n",
    "\n",
    "day05b('test05.txt')\n",
    "day05b()"
   ]
  },
  {
   "cell_type": "code",
   "execution_count": 73,
   "id": "d0451df0",
   "metadata": {},
   "outputs": [
    {
     "data": {
      "text/plain": [
       "[5, 4]"
      ]
     },
     "execution_count": 73,
     "metadata": {},
     "output_type": "execute_result"
    }
   ],
   "source": [
    "list(range(5,3,-1))"
   ]
  },
  {
   "cell_type": "code",
   "execution_count": null,
   "id": "16e22d39",
   "metadata": {},
   "outputs": [],
   "source": []
  }
 ],
 "metadata": {
  "kernelspec": {
   "display_name": "Python 3 (ipykernel)",
   "language": "python",
   "name": "python3"
  },
  "language_info": {
   "codemirror_mode": {
    "name": "ipython",
    "version": 3
   },
   "file_extension": ".py",
   "mimetype": "text/x-python",
   "name": "python",
   "nbconvert_exporter": "python",
   "pygments_lexer": "ipython3",
   "version": "3.8.8"
  }
 },
 "nbformat": 4,
 "nbformat_minor": 5
}
