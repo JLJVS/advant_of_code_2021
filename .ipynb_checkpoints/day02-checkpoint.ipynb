{
 "cells": [
  {
   "cell_type": "markdown",
   "id": "715e163a",
   "metadata": {},
   "source": [
    "--- Day 2: Dive! ---\n",
    "\n",
    "Now, you need to figure out how to pilot this thing.\n",
    "\n",
    "It seems like the submarine can take a series of commands like forward 1, down 2, or up 3:\n",
    "\n",
    "    forward X increases the horizontal position by X units.\n",
    "    down X increases the depth by X units.\n",
    "    up X decreases the depth by X units.\n",
    "\n",
    "Note that since you're on a submarine, down and up affect your depth, and so they have the opposite result of what you might expect.\n",
    "\n",
    "The submarine seems to already have a planned course (your puzzle input). You should probably figure out where it's going. For example:\n",
    "\n",
    "forward 5\n",
    "down 5\n",
    "forward 8\n",
    "up 3\n",
    "down 8\n",
    "forward 2\n",
    "\n",
    "Your horizontal position and depth both start at 0. The steps above would then modify them as follows:\n",
    "\n",
    "    forward 5 adds 5 to your horizontal position, a total of 5.\n",
    "    down 5 adds 5 to your depth, resulting in a value of 5.\n",
    "    forward 8 adds 8 to your horizontal position, a total of 13.\n",
    "    up 3 decreases your depth by 3, resulting in a value of 2.\n",
    "    down 8 adds 8 to your depth, resulting in a value of 10.\n",
    "    forward 2 adds 2 to your horizontal position, a total of 15.\n",
    "\n",
    "After following these instructions, you would have a horizontal position of 15 and a depth of 10. (Multiplying these together produces 150.)\n",
    "\n",
    "Calculate the horizontal position and depth you would have after following the planned course. What do you get if you multiply your final horizontal position by your final depth?\n"
   ]
  },
  {
   "cell_type": "code",
   "execution_count": 8,
   "id": "4e387800",
   "metadata": {},
   "outputs": [],
   "source": [
    "def input_wrangler(filepath='input02.txt'):\n",
    "    \n",
    "    with open(filepath, 'r') as f:\n",
    "        lines = f.readlines()\n",
    "        \n",
    "    lines = [i.rstrip().split() for i in lines]\n",
    "    return lines"
   ]
  },
  {
   "cell_type": "code",
   "execution_count": 20,
   "id": "e9a512a2",
   "metadata": {},
   "outputs": [],
   "source": [
    "def day02a(filepath='input02.txt'):\n",
    "    \n",
    "    instructions = input_wrangler(filepath)\n",
    "    horizontal, depth = 0, 0\n",
    "    \n",
    "    for instruction in instructions:\n",
    "        direction, amount = instruction[0], int(instruction[1])\n",
    "        \n",
    "        if direction == 'forward':\n",
    "            horizontal += amount\n",
    "        elif direction == 'up':\n",
    "            depth -= amount\n",
    "        else:\n",
    "            depth += amount\n",
    "    \n",
    "    print(horizontal*depth)\n",
    "    return horizontal*depth\n",
    "    \n",
    "    \n",
    "    "
   ]
  },
  {
   "cell_type": "code",
   "execution_count": 21,
   "id": "6f1c9ca5",
   "metadata": {},
   "outputs": [
    {
     "name": "stdout",
     "output_type": "stream",
     "text": [
      "150\n",
      "1989265\n",
      "150\n",
      "1989265\n",
      "150\n",
      "1989265\n",
      "1.08 ms ± 228 µs per loop (mean ± std. dev. of 3 runs, 1 loop each)\n"
     ]
    }
   ],
   "source": [
    "%%timeit -r 3 -n 1\n",
    "\n",
    "day02a(filepath='test02.txt')\n",
    "day02a()"
   ]
  },
  {
   "cell_type": "markdown",
   "id": "f47e6feb",
   "metadata": {},
   "source": [
    "--- Part Two ---\n",
    "\n",
    "Based on your calculations, the planned course doesn't seem to make any sense. You find the submarine manual and discover that the process is actually slightly more complicated.\n",
    "\n",
    "In addition to horizontal position and depth, you'll also need to track a third value, aim, which also starts at 0. The commands also mean something entirely different than you first thought:\n",
    "\n",
    "    down X increases your aim by X units.\n",
    "    up X decreases your aim by X units.\n",
    "    forward X does two things:\n",
    "        It increases your horizontal position by X units.\n",
    "        It increases your depth by your aim multiplied by X.\n",
    "\n",
    "Again note that since you're on a submarine, down and up do the opposite of what you might expect: \"down\" means aiming in the positive direction.\n",
    "\n",
    "Now, the above example does something different:\n",
    "\n",
    "    forward 5 adds 5 to your horizontal position, a total of 5. Because your aim is 0, your depth does not change.\n",
    "    down 5 adds 5 to your aim, resulting in a value of 5.\n",
    "    forward 8 adds 8 to your horizontal position, a total of 13. Because your aim is 5, your depth increases by 8*5=40.\n",
    "    up 3 decreases your aim by 3, resulting in a value of 2.\n",
    "    down 8 adds 8 to your aim, resulting in a value of 10.\n",
    "    forward 2 adds 2 to your horizontal position, a total of 15. Because your aim is 10, your depth increases by 2*10=20 to a total of 60.\n",
    "\n",
    "After following these new instructions, you would have a horizontal position of 15 and a depth of 60. (Multiplying these produces 900.)\n",
    "\n",
    "Using this new interpretation of the commands, calculate the horizontal position and depth you would have after following the planned course. What do you get if you multiply your final horizontal position by your final depth?\n"
   ]
  },
  {
   "cell_type": "code",
   "execution_count": 23,
   "id": "d0d36fae",
   "metadata": {},
   "outputs": [],
   "source": [
    "def day02b(filepath='input02.txt'):\n",
    "    \n",
    "    instructions = input_wrangler(filepath)\n",
    "    horizontal, depth, aim = 0, 0, 0\n",
    "    \n",
    "    for instruction in instructions:\n",
    "        direction, amount = instruction[0], int(instruction[1])\n",
    "        \n",
    "        if direction == 'forward':\n",
    "            horizontal += amount\n",
    "            depth += amount*aim\n",
    "        elif direction == 'up':\n",
    "            aim -= amount\n",
    "        else:\n",
    "            aim += amount\n",
    "    \n",
    "    print(horizontal*depth)\n",
    "    return horizontal*depth"
   ]
  },
  {
   "cell_type": "code",
   "execution_count": 24,
   "id": "511059cc",
   "metadata": {},
   "outputs": [
    {
     "name": "stdout",
     "output_type": "stream",
     "text": [
      "900\n",
      "2089174012\n",
      "900\n",
      "2089174012\n",
      "900\n",
      "2089174012\n",
      "1.07 ms ± 166 µs per loop (mean ± std. dev. of 3 runs, 1 loop each)\n"
     ]
    }
   ],
   "source": [
    "%%timeit -r 3 -n 1\n",
    "\n",
    "day02b(filepath='test02.txt')\n",
    "day02b()"
   ]
  },
  {
   "cell_type": "code",
   "execution_count": null,
   "id": "a6295036",
   "metadata": {},
   "outputs": [],
   "source": []
  }
 ],
 "metadata": {
  "kernelspec": {
   "display_name": "Python 3 (ipykernel)",
   "language": "python",
   "name": "python3"
  },
  "language_info": {
   "codemirror_mode": {
    "name": "ipython",
    "version": 3
   },
   "file_extension": ".py",
   "mimetype": "text/x-python",
   "name": "python",
   "nbconvert_exporter": "python",
   "pygments_lexer": "ipython3",
   "version": "3.8.8"
  }
 },
 "nbformat": 4,
 "nbformat_minor": 5
}
